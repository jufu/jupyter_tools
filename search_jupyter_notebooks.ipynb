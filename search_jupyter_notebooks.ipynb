{
 "cells": [
  {
   "cell_type": "markdown",
   "id": "grave-potter",
   "metadata": {},
   "source": [
    "# Search Jupyter Lab notebooks\n",
    "\n",
    "This workbook will search recursively through all your *.ipynb files on the Jupyter server and return the results as links.\n",
    "\n",
    "By clicking the link, it should laumch the notebook within your Jupyter Notebook/Lab server.\n",
    "\n",
    "\n",
    "Written by: Justin Fu\n",
    "\n",
    "Last Modified: Sept 27, 2021\n",
    "\n"
   ]
  },
  {
   "cell_type": "code",
   "execution_count": 1,
   "id": "technological-terrain",
   "metadata": {},
   "outputs": [],
   "source": [
    "import glob\n",
    "import ipywidgets as widgets\n",
    "from ipywidgets import interact_manual\n",
    "from IPython.core.display import  HTML, clear_output\n",
    "from IPython.display import display\n",
    "import mmap, re\n",
    "\n",
    "pattern = './**/*.ipynb'"
   ]
  },
  {
   "cell_type": "code",
   "execution_count": 2,
   "id": "quarterly-dallas",
   "metadata": {},
   "outputs": [],
   "source": [
    "def search_ipynb(searchTerms):    \n",
    "\n",
    "    query = searchTerms\n",
    "\n",
    "    html = \"Search results for \" + searchTerms + \": <br/>\"\n",
    "    for filepath in glob.iglob(pattern, recursive=True):\n",
    "        with open(filepath) as file:\n",
    "\n",
    "            s = mmap.mmap(file.fileno(), 0, access=mmap.ACCESS_READ) \n",
    "\n",
    "            if re.search(str.encode(query), s, re.IGNORECASE):\n",
    "                html += '<br/><a href=\"' + filepath + '\" target=\"_blank\">' + filepath + '</a>'\n",
    "  \n",
    "    return display(HTML(html))\n"
   ]
  },
  {
   "cell_type": "markdown",
   "id": "oriented-rehabilitation",
   "metadata": {},
   "source": [
    "## Enter your search terms and press the ENTER key or click the \"Run Interact\" button. Then wait a few seconds for the results**"
   ]
  },
  {
   "cell_type": "code",
   "execution_count": 3,
   "id": "median-university",
   "metadata": {},
   "outputs": [
    {
     "data": {
      "application/vnd.jupyter.widget-view+json": {
       "model_id": "e6f582f539f14a62a4a13a7c5ffc79f3",
       "version_major": 2,
       "version_minor": 0
      },
      "text/plain": [
       "interactive(children=(Text(value='', description='searchTerms'), Button(description='Run Interact', style=Butt…"
      ]
     },
     "metadata": {},
     "output_type": "display_data"
    },
    {
     "data": {
      "text/plain": [
       "<function __main__.search_ipynb(searchTerms)>"
      ]
     },
     "execution_count": 3,
     "metadata": {},
     "output_type": "execute_result"
    }
   ],
   "source": [
    "text = widgets.Text()\n",
    "\n",
    "interact_manual(search_ipynb, searchTerms=text)"
   ]
  },
  {
   "cell_type": "code",
   "execution_count": null,
   "id": "weighted-expansion",
   "metadata": {},
   "outputs": [],
   "source": []
  }
 ],
 "metadata": {
  "kernelspec": {
   "display_name": "Python 3",
   "language": "python",
   "name": "python3"
  },
  "language_info": {
   "codemirror_mode": {
    "name": "ipython",
    "version": 3
   },
   "file_extension": ".py",
   "mimetype": "text/x-python",
   "name": "python",
   "nbconvert_exporter": "python",
   "pygments_lexer": "ipython3",
   "version": "3.8.8"
  },
  "toc": {
   "base_numbering": 1,
   "nav_menu": {},
   "number_sections": true,
   "sideBar": true,
   "skip_h1_title": false,
   "title_cell": "Table of Contents",
   "title_sidebar": "Contents",
   "toc_cell": false,
   "toc_position": {},
   "toc_section_display": true,
   "toc_window_display": false
  }
 },
 "nbformat": 4,
 "nbformat_minor": 5
}
